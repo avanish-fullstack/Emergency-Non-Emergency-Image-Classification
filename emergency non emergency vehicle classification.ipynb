{
 "cells": [
  {
   "cell_type": "markdown",
   "metadata": {},
   "source": [
    "## CLASSIFICATION VEHICLES AS EMERGENCY AND NON-EMERGENCY "
   ]
  },
  {
   "cell_type": "code",
   "execution_count": 1,
   "metadata": {},
   "outputs": [
    {
     "name": "stderr",
     "output_type": "stream",
     "text": [
      "Using TensorFlow backend.\n",
      "C:\\Users\\avani\\AnacondaLatest\\lib\\site-packages\\tensorflow\\python\\framework\\dtypes.py:516: FutureWarning: Passing (type, 1) or '1type' as a synonym of type is deprecated; in a future version of numpy, it will be understood as (type, (1,)) / '(1,)type'.\n",
      "  _np_qint8 = np.dtype([(\"qint8\", np.int8, 1)])\n",
      "C:\\Users\\avani\\AnacondaLatest\\lib\\site-packages\\tensorflow\\python\\framework\\dtypes.py:517: FutureWarning: Passing (type, 1) or '1type' as a synonym of type is deprecated; in a future version of numpy, it will be understood as (type, (1,)) / '(1,)type'.\n",
      "  _np_quint8 = np.dtype([(\"quint8\", np.uint8, 1)])\n",
      "C:\\Users\\avani\\AnacondaLatest\\lib\\site-packages\\tensorflow\\python\\framework\\dtypes.py:518: FutureWarning: Passing (type, 1) or '1type' as a synonym of type is deprecated; in a future version of numpy, it will be understood as (type, (1,)) / '(1,)type'.\n",
      "  _np_qint16 = np.dtype([(\"qint16\", np.int16, 1)])\n",
      "C:\\Users\\avani\\AnacondaLatest\\lib\\site-packages\\tensorflow\\python\\framework\\dtypes.py:519: FutureWarning: Passing (type, 1) or '1type' as a synonym of type is deprecated; in a future version of numpy, it will be understood as (type, (1,)) / '(1,)type'.\n",
      "  _np_quint16 = np.dtype([(\"quint16\", np.uint16, 1)])\n",
      "C:\\Users\\avani\\AnacondaLatest\\lib\\site-packages\\tensorflow\\python\\framework\\dtypes.py:520: FutureWarning: Passing (type, 1) or '1type' as a synonym of type is deprecated; in a future version of numpy, it will be understood as (type, (1,)) / '(1,)type'.\n",
      "  _np_qint32 = np.dtype([(\"qint32\", np.int32, 1)])\n",
      "C:\\Users\\avani\\AnacondaLatest\\lib\\site-packages\\tensorflow\\python\\framework\\dtypes.py:525: FutureWarning: Passing (type, 1) or '1type' as a synonym of type is deprecated; in a future version of numpy, it will be understood as (type, (1,)) / '(1,)type'.\n",
      "  np_resource = np.dtype([(\"resource\", np.ubyte, 1)])\n",
      "C:\\Users\\avani\\AnacondaLatest\\lib\\site-packages\\tensorboard\\compat\\tensorflow_stub\\dtypes.py:541: FutureWarning: Passing (type, 1) or '1type' as a synonym of type is deprecated; in a future version of numpy, it will be understood as (type, (1,)) / '(1,)type'.\n",
      "  _np_qint8 = np.dtype([(\"qint8\", np.int8, 1)])\n",
      "C:\\Users\\avani\\AnacondaLatest\\lib\\site-packages\\tensorboard\\compat\\tensorflow_stub\\dtypes.py:542: FutureWarning: Passing (type, 1) or '1type' as a synonym of type is deprecated; in a future version of numpy, it will be understood as (type, (1,)) / '(1,)type'.\n",
      "  _np_quint8 = np.dtype([(\"quint8\", np.uint8, 1)])\n",
      "C:\\Users\\avani\\AnacondaLatest\\lib\\site-packages\\tensorboard\\compat\\tensorflow_stub\\dtypes.py:543: FutureWarning: Passing (type, 1) or '1type' as a synonym of type is deprecated; in a future version of numpy, it will be understood as (type, (1,)) / '(1,)type'.\n",
      "  _np_qint16 = np.dtype([(\"qint16\", np.int16, 1)])\n",
      "C:\\Users\\avani\\AnacondaLatest\\lib\\site-packages\\tensorboard\\compat\\tensorflow_stub\\dtypes.py:544: FutureWarning: Passing (type, 1) or '1type' as a synonym of type is deprecated; in a future version of numpy, it will be understood as (type, (1,)) / '(1,)type'.\n",
      "  _np_quint16 = np.dtype([(\"quint16\", np.uint16, 1)])\n",
      "C:\\Users\\avani\\AnacondaLatest\\lib\\site-packages\\tensorboard\\compat\\tensorflow_stub\\dtypes.py:545: FutureWarning: Passing (type, 1) or '1type' as a synonym of type is deprecated; in a future version of numpy, it will be understood as (type, (1,)) / '(1,)type'.\n",
      "  _np_qint32 = np.dtype([(\"qint32\", np.int32, 1)])\n",
      "C:\\Users\\avani\\AnacondaLatest\\lib\\site-packages\\tensorboard\\compat\\tensorflow_stub\\dtypes.py:550: FutureWarning: Passing (type, 1) or '1type' as a synonym of type is deprecated; in a future version of numpy, it will be understood as (type, (1,)) / '(1,)type'.\n",
      "  np_resource = np.dtype([(\"resource\", np.ubyte, 1)])\n"
     ]
    }
   ],
   "source": [
    "# import libraries\n",
    "%matplotlib inline\n",
    "\n",
    "import pandas as pd\n",
    "import numpy as np\n",
    "import matplotlib.pyplot as plt\n",
    "\n",
    "from keras.models import Sequential\n",
    "from keras.preprocessing import image\n",
    "from keras.layers import Dense,InputLayer, Conv2D,MaxPool2D , Flatten\n",
    "\n",
    "from sklearn.model_selection import train_test_split"
   ]
  },
  {
   "cell_type": "code",
   "execution_count": 2,
   "metadata": {},
   "outputs": [],
   "source": [
    "# read the image name and label mapping file\n",
    "image_maps = pd.read_csv('emergency_classification.csv')\n",
    "image_base_path = './images'"
   ]
  },
  {
   "cell_type": "code",
   "execution_count": 3,
   "metadata": {},
   "outputs": [],
   "source": [
    "# read images in an  list\n",
    "images=[]\n",
    "\n",
    "for img in image_maps['image_names']:\n",
    "    img  = plt.imread(image_base_path + '/' + img)\n",
    "    images.append(img)"
   ]
  },
  {
   "cell_type": "code",
   "execution_count": 4,
   "metadata": {},
   "outputs": [],
   "source": [
    "X = np.array(images)"
   ]
  },
  {
   "cell_type": "code",
   "execution_count": 5,
   "metadata": {},
   "outputs": [],
   "source": [
    "y = image_maps['emergency_or_not']"
   ]
  },
  {
   "cell_type": "code",
   "execution_count": 6,
   "metadata": {},
   "outputs": [],
   "source": [
    "# split data into trainining and test set\n",
    "X_train,X_test,y_train,y_test = train_test_split(X,y, test_size = 0.2)"
   ]
  },
  {
   "cell_type": "markdown",
   "metadata": {},
   "source": [
    "## Build CNN Model"
   ]
  },
  {
   "cell_type": "code",
   "execution_count": 7,
   "metadata": {},
   "outputs": [
    {
     "name": "stdout",
     "output_type": "stream",
     "text": [
      "WARNING:tensorflow:From C:\\Users\\avani\\AnacondaLatest\\lib\\site-packages\\keras\\backend\\tensorflow_backend.py:4070: The name tf.nn.max_pool is deprecated. Please use tf.nn.max_pool2d instead.\n",
      "\n"
     ]
    }
   ],
   "source": [
    "#build layers\n",
    "model = Sequential()\n",
    "model.add(InputLayer(input_shape = (224,224,3)))\n",
    "\n",
    "#convolution layers\n",
    "model.add(Conv2D(filters=25, kernel_size = (5,5), activation = 'relu' , strides = (1,1), padding='valid'))\n",
    "model.add(Conv2D(filters=50, kernel_size = (5,5), activation = 'relu' , strides = (1,1), padding='valid'))\n",
    "\n",
    "#maxpool layer , reduces dimension, captures major features , reduces feature size\n",
    "model.add(MaxPool2D(pool_size=(3,3), strides = (2,2), padding='same'))\n",
    "\n",
    "#flatten the input to make it consumable by neural net\n",
    "model.add(Flatten())\n",
    "\n",
    "# build neural network\n",
    "model.add(Dense(units=100 , activation='sigmoid'))\n",
    "model.add(Dense(units = 1 , activation = 'sigmoid'))"
   ]
  },
  {
   "cell_type": "code",
   "execution_count": 8,
   "metadata": {},
   "outputs": [
    {
     "name": "stdout",
     "output_type": "stream",
     "text": [
      "Model: \"sequential_1\"\n",
      "_________________________________________________________________\n",
      "Layer (type)                 Output Shape              Param #   \n",
      "=================================================================\n",
      "conv2d_1 (Conv2D)            (None, 220, 220, 25)      1900      \n",
      "_________________________________________________________________\n",
      "conv2d_2 (Conv2D)            (None, 216, 216, 50)      31300     \n",
      "_________________________________________________________________\n",
      "max_pooling2d_1 (MaxPooling2 (None, 108, 108, 50)      0         \n",
      "_________________________________________________________________\n",
      "flatten_1 (Flatten)          (None, 583200)            0         \n",
      "_________________________________________________________________\n",
      "dense_1 (Dense)              (None, 100)               58320100  \n",
      "_________________________________________________________________\n",
      "dense_2 (Dense)              (None, 1)                 101       \n",
      "=================================================================\n",
      "Total params: 58,353,401\n",
      "Trainable params: 58,353,401\n",
      "Non-trainable params: 0\n",
      "_________________________________________________________________\n"
     ]
    }
   ],
   "source": [
    "# displays summary  of all the layers in CNN\n",
    "model.summary()"
   ]
  },
  {
   "cell_type": "code",
   "execution_count": 9,
   "metadata": {},
   "outputs": [
    {
     "name": "stdout",
     "output_type": "stream",
     "text": [
      "WARNING:tensorflow:From C:\\Users\\avani\\AnacondaLatest\\lib\\site-packages\\tensorflow\\python\\ops\\nn_impl.py:180: add_dispatch_support.<locals>.wrapper (from tensorflow.python.ops.array_ops) is deprecated and will be removed in a future version.\n",
      "Instructions for updating:\n",
      "Use tf.where in 2.0, which has the same broadcast rule as np.where\n"
     ]
    }
   ],
   "source": [
    "# compile model\n",
    "model.compile(loss= 'binary_crossentropy', optimizer = 'adam', metrics = ['accuracy'])"
   ]
  },
  {
   "cell_type": "code",
   "execution_count": 10,
   "metadata": {},
   "outputs": [
    {
     "name": "stdout",
     "output_type": "stream",
     "text": [
      "WARNING:tensorflow:From C:\\Users\\avani\\AnacondaLatest\\lib\\site-packages\\keras\\backend\\tensorflow_backend.py:422: The name tf.global_variables is deprecated. Please use tf.compat.v1.global_variables instead.\n",
      "\n",
      "Train on 1881 samples, validate on 471 samples\n",
      "Epoch 1/15\n",
      "1881/1881 [==============================] - 574s 305ms/step - loss: 0.6827 - accuracy: 0.5736 - val_loss: 0.6658 - val_accuracy: 0.6306\n",
      "Epoch 2/15\n",
      "1881/1881 [==============================] - 522s 277ms/step - loss: 0.6796 - accuracy: 0.5720 - val_loss: 0.6605 - val_accuracy: 0.6136\n",
      "Epoch 3/15\n",
      "1881/1881 [==============================] - 531s 282ms/step - loss: 0.6846 - accuracy: 0.5710 - val_loss: 0.6728 - val_accuracy: 0.6157\n",
      "Epoch 4/15\n",
      "1881/1881 [==============================] - 547s 291ms/step - loss: 0.6819 - accuracy: 0.5699 - val_loss: 0.6686 - val_accuracy: 0.6136\n",
      "Epoch 5/15\n",
      "1881/1881 [==============================] - 767s 408ms/step - loss: 0.6842 - accuracy: 0.5699 - val_loss: 0.6703 - val_accuracy: 0.6136\n",
      "Epoch 6/15\n",
      "1881/1881 [==============================] - 609s 324ms/step - loss: 0.6840 - accuracy: 0.5699 - val_loss: 0.6700 - val_accuracy: 0.6136\n",
      "Epoch 7/15\n",
      "1881/1881 [==============================] - 588s 313ms/step - loss: 0.6838 - accuracy: 0.5699 - val_loss: 0.6683 - val_accuracy: 0.6136\n",
      "Epoch 8/15\n",
      "1881/1881 [==============================] - 624s 332ms/step - loss: 0.6844 - accuracy: 0.5699 - val_loss: 0.6721 - val_accuracy: 0.6136\n",
      "Epoch 9/15\n",
      "1881/1881 [==============================] - 601s 319ms/step - loss: 0.6838 - accuracy: 0.5699 - val_loss: 0.6709 - val_accuracy: 0.6136\n",
      "Epoch 10/15\n",
      "1881/1881 [==============================] - 678s 360ms/step - loss: 0.6835 - accuracy: 0.5699 - val_loss: 0.6727 - val_accuracy: 0.6136\n",
      "Epoch 11/15\n",
      "1881/1881 [==============================] - 569s 303ms/step - loss: 0.6831 - accuracy: 0.5699 - val_loss: 0.6677 - val_accuracy: 0.6136\n",
      "Epoch 12/15\n",
      "1881/1881 [==============================] - 565s 300ms/step - loss: 0.6833 - accuracy: 0.5699 - val_loss: 0.6714 - val_accuracy: 0.6136\n",
      "Epoch 13/15\n",
      "1881/1881 [==============================] - 640s 340ms/step - loss: 0.6836 - accuracy: 0.5699 - val_loss: 0.6675 - val_accuracy: 0.6136\n",
      "Epoch 14/15\n",
      "1881/1881 [==============================] - 794s 422ms/step - loss: 0.6832 - accuracy: 0.5699 - val_loss: 0.6777 - val_accuracy: 0.6136\n",
      "Epoch 15/15\n",
      "1881/1881 [==============================] - 899s 478ms/step - loss: 0.6837 - accuracy: 0.5699 - val_loss: 0.6689 - val_accuracy: 0.6136\n"
     ]
    },
    {
     "data": {
      "text/plain": [
       "<keras.callbacks.callbacks.History at 0x1ad7f3cb630>"
      ]
     },
     "execution_count": 10,
     "metadata": {},
     "output_type": "execute_result"
    }
   ],
   "source": [
    "#  train model on train data set and validate it using the test set. run it for 15 iterations\n",
    "model.fit(X_train,y_train,epochs=15, validation_data=(X_test,y_test))"
   ]
  },
  {
   "cell_type": "code",
   "execution_count": 11,
   "metadata": {},
   "outputs": [
    {
     "name": "stdout",
     "output_type": "stream",
     "text": [
      "Model: \"sequential_1\"\n",
      "_________________________________________________________________\n",
      "Layer (type)                 Output Shape              Param #   \n",
      "=================================================================\n",
      "conv2d_1 (Conv2D)            (None, 220, 220, 25)      1900      \n",
      "_________________________________________________________________\n",
      "conv2d_2 (Conv2D)            (None, 216, 216, 50)      31300     \n",
      "_________________________________________________________________\n",
      "max_pooling2d_1 (MaxPooling2 (None, 108, 108, 50)      0         \n",
      "_________________________________________________________________\n",
      "flatten_1 (Flatten)          (None, 583200)            0         \n",
      "_________________________________________________________________\n",
      "dense_1 (Dense)              (None, 100)               58320100  \n",
      "_________________________________________________________________\n",
      "dense_2 (Dense)              (None, 1)                 101       \n",
      "=================================================================\n",
      "Total params: 58,353,401\n",
      "Trainable params: 58,353,401\n",
      "Non-trainable params: 0\n",
      "_________________________________________________________________\n"
     ]
    }
   ],
   "source": [
    "model.summary()"
   ]
  }
 ],
 "metadata": {
  "kernelspec": {
   "display_name": "Python 3",
   "language": "python",
   "name": "python3"
  },
  "language_info": {
   "codemirror_mode": {
    "name": "ipython",
    "version": 3
   },
   "file_extension": ".py",
   "mimetype": "text/x-python",
   "name": "python",
   "nbconvert_exporter": "python",
   "pygments_lexer": "ipython3",
   "version": "3.7.3"
  }
 },
 "nbformat": 4,
 "nbformat_minor": 2
}
